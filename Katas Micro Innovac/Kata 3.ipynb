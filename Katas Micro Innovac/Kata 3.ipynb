{
 "cells": [
  {
   "cell_type": "markdown",
   "metadata": {},
   "source": [
    "# Kata 3  "
   ]
  },
  {
   "cell_type": "code",
   "execution_count": 34,
   "metadata": {},
   "outputs": [
    {
     "name": "stdout",
     "output_type": "stream",
     "text": [
      "¡ADVERTENCIA!: UN ASTEORIDE SE DIRIGE A LA TIERRA A: 49\n"
     ]
    }
   ],
   "source": [
    "#velocidad = 49 km/s\n",
    "a= 49\n",
    "if a > 25:\n",
    "   print ('¡ADVERTENCIA!: UN ASTEORIDE SE DIRIGE A LA TIERRA A:',a)\n",
    "else:\n",
    "   print ('¡Todo en orden!',a)\n",
    " "
   ]
  },
  {
   "cell_type": "code",
   "execution_count": 49,
   "metadata": {},
   "outputs": [
    {
     "name": "stdout",
     "output_type": "stream",
     "text": [
      "El asteroide va algo lento\n"
     ]
    }
   ],
   "source": [
    "a = 19 \n",
    "b = 20\n",
    "c = 27\n",
    "if a > b:\n",
    "    if c > b:\n",
    "        print (\"Busca el rayo de luz que deja el asteroide\")\n",
    "    else: \n",
    "        print (\"El asteoride va algo lento\")\n",
    "elif a == b:\n",
    "    print (\"Busca el rayo de luz que deja el asteoride\")\n",
    "else:\n",
    "    print (\"El asteroide va algo lento\")"
   ]
  },
  {
   "cell_type": "code",
   "execution_count": 51,
   "metadata": {},
   "outputs": [
    {
     "name": "stdout",
     "output_type": "stream",
     "text": [
      "Busca el rayo de luz que deja el asteoride\n"
     ]
    }
   ],
   "source": [
    "vel_a = 25\n",
    "dimen_a = 40\n",
    "if vel_a > 25 and dimen_a > 25:\n",
    "    print('¡CUIDADO: Un asteroide chocará con la Tierra!')\n",
    "elif vel_a >= 20:\n",
    "    print('Busca el rayo de luz que deja el asteoride')\n",
    "elif dimen_a < 25:\n",
    "    print('No hay peligro de asteroides')\n",
    "else:\n",
    "    print('No hay peligro de asteroides')"
   ]
  }
 ],
 "metadata": {
  "interpreter": {
   "hash": "b5d0eaebb3584a8815ca6ef48f7f05dacd9c4ddcec74991bd5e63d4eeeaf80ba"
  },
  "kernelspec": {
   "display_name": "Python 3.10.2 64-bit",
   "language": "python",
   "name": "python3"
  },
  "language_info": {
   "codemirror_mode": {
    "name": "ipython",
    "version": 3
   },
   "file_extension": ".py",
   "mimetype": "text/x-python",
   "name": "python",
   "nbconvert_exporter": "python",
   "pygments_lexer": "ipython3",
   "version": "3.10.2"
  },
  "orig_nbformat": 4
 },
 "nbformat": 4,
 "nbformat_minor": 2
}
