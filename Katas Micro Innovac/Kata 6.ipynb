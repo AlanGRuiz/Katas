{
 "cells": [
  {
   "cell_type": "markdown",
   "metadata": {},
   "source": [
    "# Kata 6"
   ]
  },
  {
   "cell_type": "code",
   "execution_count": 30,
   "metadata": {},
   "outputs": [
    {
     "name": "stdout",
     "output_type": "stream",
     "text": [
      "['Mercurio', 'Venus', 'Tierra', 'Marte', 'Júpiter', 'Saturno', 'Urano', 'Neptuno']\n",
      "Tenemos 8  planetas en el sistema\n",
      "Pluto es el último planeta\n"
     ]
    }
   ],
   "source": [
    "planets = ['Mercurio','Venus','Tierra','Marte','Júpiter','Saturno','Urano','Neptuno']\n",
    "print(planets)\n",
    "\n",
    "number_planets = len(planets)\n",
    "print('Tenemos',number_planets,' planetas en el sistema')\n",
    "\n",
    "planets.append('Pluto')\n",
    "print(planets[-1], 'es el último planeta')"
   ]
  },
  {
   "cell_type": "code",
   "execution_count": 37,
   "metadata": {},
   "outputs": [
    {
     "name": "stdout",
     "output_type": "stream",
     "text": [
      "3\n",
      "Los planetas más cercanos al sol del elegido son\n",
      "['Mercury', 'Venus']\n",
      "Los planetas más lejanos al sol del elegido son\n",
      "['Mars', 'Jupiter', 'Saturn', 'Neptune']\n"
     ]
    }
   ],
   "source": [
    "planets = ['Mercury', 'Venus', 'Earth', 'Mars', 'Jupiter', 'Saturn', 'Neptune']\n",
    "planet_name = input('Introduce el nombre de un planeta del sistema solar, empezando con letra mayúscula por favor')\n",
    "planet_index = planets.index(planet_name)\n",
    "print(planet_index+1)\n",
    "\n",
    "print('Los planetas más cercanos al sol del elegido son')\n",
    "print(planets[0:planet_index])\n",
    "print('Los planetas más lejanos al sol del elegido son')\n",
    "print(planets[planet_index+1:] )"
   ]
  }
 ],
 "metadata": {
  "interpreter": {
   "hash": "b5d0eaebb3584a8815ca6ef48f7f05dacd9c4ddcec74991bd5e63d4eeeaf80ba"
  },
  "kernelspec": {
   "display_name": "Python 3.10.2 64-bit",
   "language": "python",
   "name": "python3"
  },
  "language_info": {
   "codemirror_mode": {
    "name": "ipython",
    "version": 3
   },
   "file_extension": ".py",
   "mimetype": "text/x-python",
   "name": "python",
   "nbconvert_exporter": "python",
   "pygments_lexer": "ipython3",
   "version": "3.10.2"
  },
  "orig_nbformat": 4
 },
 "nbformat": 4,
 "nbformat_minor": 2
}
